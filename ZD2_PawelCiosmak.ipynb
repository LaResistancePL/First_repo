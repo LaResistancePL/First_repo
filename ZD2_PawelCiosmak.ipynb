{
  "nbformat": 4,
  "nbformat_minor": 0,
  "metadata": {
    "colab": {
      "provenance": [],
      "authorship_tag": "ABX9TyPaYaYVPOeJUesOekDRAGbU",
      "include_colab_link": true
    },
    "kernelspec": {
      "name": "python3",
      "display_name": "Python 3"
    },
    "language_info": {
      "name": "python"
    }
  },
  "cells": [
    {
      "cell_type": "markdown",
      "metadata": {
        "id": "view-in-github",
        "colab_type": "text"
      },
      "source": [
        "<a href=\"https://colab.research.google.com/github/LaResistancePL/First_repo/blob/main/ZD2_PawelCiosmak.ipynb\" target=\"_parent\"><img src=\"https://colab.research.google.com/assets/colab-badge.svg\" alt=\"Open In Colab\"/></a>"
      ]
    },
    {
      "cell_type": "code",
      "execution_count": 1,
      "metadata": {
        "id": "6PozMmMAOJnu"
      },
      "outputs": [],
      "source": [
        "# TASK 1 Solving matrices\n",
        "#1a\n",
        "import numpy as np\n",
        "\n",
        "# matrix A\n",
        "matrix_a = np.array([[-1, 1, 2],\n",
        "              [0, -1, -3],\n",
        "              [4, -3, 2]])"
      ]
    },
    {
      "cell_type": "code",
      "source": [
        "# vector b\n",
        "vector_b = np.array([1, -4, 7])\n",
        "# inverse of matrix A\n",
        "matrix_a_inv = np.linalg.inv(matrix_a)\n",
        "# x by multiplying A_inv by vector b\n",
        "x = np.dot(matrix_a_inv, vector_b)"
      ],
      "metadata": {
        "id": "oeJ_3e2mR0wA"
      },
      "execution_count": 2,
      "outputs": []
    },
    {
      "cell_type": "code",
      "source": [
        "# Round the values & printing results\n",
        "x_rounded = np.round(x).astype(int)\n",
        "print(\"x1 =\", x_rounded[0])\n",
        "print(\"x2 =\", x_rounded[1])\n",
        "print(\"x3 =\", x_rounded[2])"
      ],
      "metadata": {
        "colab": {
          "base_uri": "https://localhost:8080/"
        },
        "id": "ErGqSw1bS-I1",
        "outputId": "06cb46e0-18a2-4abb-ee2b-e3ae3eec649d"
      },
      "execution_count": 5,
      "outputs": [
        {
          "output_type": "stream",
          "name": "stdout",
          "text": [
            "x1 = 2\n",
            "x2 = 1\n",
            "x3 = 1\n"
          ]
        }
      ]
    },
    {
      "cell_type": "code",
      "source": [
        "#1b\n",
        "\n",
        "# matrix B\n",
        "matrix_b = np.array([[3, -1, 0],\n",
        "              [2, -2, 4],\n",
        "              [5, -6, 2]])"
      ],
      "metadata": {
        "id": "Qskf37wZUefT"
      },
      "execution_count": 6,
      "outputs": []
    },
    {
      "cell_type": "code",
      "source": [
        "# vector c\n",
        "vector_c = np.array([4, 8, 13])\n",
        "\n",
        "# inverse of martrix B\n",
        "matrix_b_inv = np.linalg.inv(matrix_b)\n",
        "\n",
        "# x by multiplying matrix B by vector c\n",
        "x = np.dot(matrix_b_inv, vector_c)"
      ],
      "metadata": {
        "id": "bjir16TVUiQZ"
      },
      "execution_count": 7,
      "outputs": []
    },
    {
      "cell_type": "code",
      "source": [
        "#Round the values & printing results\n",
        "x_rounded = np.round(x).astype(int)\n",
        "print(\"x1 =\", x_rounded[0])\n",
        "print(\"x2 =\", x_rounded[1])\n",
        "print(\"x3 =\", x_rounded[2])"
      ],
      "metadata": {
        "colab": {
          "base_uri": "https://localhost:8080/"
        },
        "id": "wFjFq3ZlWBup",
        "outputId": "c69bacdb-0b53-4b7b-8d21-a1d5ec36f217"
      },
      "execution_count": 8,
      "outputs": [
        {
          "output_type": "stream",
          "name": "stdout",
          "text": [
            "x1 = 1\n",
            "x2 = -1\n",
            "x3 = 1\n"
          ]
        }
      ]
    },
    {
      "cell_type": "code",
      "source": [
        "# Task 2. Solving a problem with a graphical description\n",
        "\n",
        "# tree = x , apple = y , banana = z"
      ],
      "metadata": {
        "id": "4n4vTwqUYTby"
      },
      "execution_count": 19,
      "outputs": []
    },
    {
      "cell_type": "code",
      "source": [
        "# matrix C\n",
        "matrix_c = np.array(\n",
        " [[3, 0, 0],\n",
        " [0, 1, 2],\n",
        " [1, 2, 0]]\n",
        " )"
      ],
      "metadata": {
        "id": "qb_xpylpZJ1k"
      },
      "execution_count": 24,
      "outputs": []
    },
    {
      "cell_type": "code",
      "source": [
        "# vector d\n",
        "vector_d = np.array([60, 23, 30])\n",
        "# results for x,y,z\n",
        "result_vector = np.linalg.solve(matrix_c, vector_d)"
      ],
      "metadata": {
        "id": "1WxhWR80afIp"
      },
      "execution_count": 25,
      "outputs": []
    },
    {
      "cell_type": "code",
      "source": [
        "# checking and printing\n",
        "print(f\"A = {matrix_c}\")\n",
        "print(vector_d)\n",
        "print(np.linalg.solve(matrix_c, vector_d))\n",
        "print(\"tree =\", result_vector[0])\n",
        "print(\"apple =\", result_vector[1])\n",
        "print(\"banna =\", result_vector[2])"
      ],
      "metadata": {
        "colab": {
          "base_uri": "https://localhost:8080/"
        },
        "id": "5FcEO6cebWid",
        "outputId": "d8762e07-cd0f-4492-b8ed-de40078b1a3a"
      },
      "execution_count": 26,
      "outputs": [
        {
          "output_type": "stream",
          "name": "stdout",
          "text": [
            "A = [[3 0 0]\n",
            " [0 1 2]\n",
            " [1 2 0]]\n",
            "[60 23 30]\n",
            "[20.  5.  9.]\n",
            "tree = 20.0\n",
            "apple = 5.0\n",
            "banna = 9.0\n"
          ]
        }
      ]
    },
    {
      "cell_type": "code",
      "source": [
        "# final result for x + y + z\n",
        "final_result = result_vector[0] + result_vector[1] + result_vector[2]\n",
        "print(final_result)"
      ],
      "metadata": {
        "colab": {
          "base_uri": "https://localhost:8080/"
        },
        "id": "09aOEIAjcR_o",
        "outputId": "93d5951c-7b66-4bb3-f438-3d15618bfae5"
      },
      "execution_count": 27,
      "outputs": [
        {
          "output_type": "stream",
          "name": "stdout",
          "text": [
            "34.0\n"
          ]
        }
      ]
    },
    {
      "cell_type": "code",
      "source": [
        "# TASK 3 Solving a problem with a textual condition\n",
        "\n",
        "#Three types of specialists worked on the project: designers, developers, and testers. We know the number of hours spent at each stage of development and the amount of money allocated for each stage as cost price.\n",
        "#The entire development was divided into 3 stages by the manager: creating the design, developing the software, and final testing.\n",
        "#The first stage took the designer 20 hours and the developers 3 hours; this stage was allocated a budget of 800 dollars. The second stage took the designers 8 hours, developers 28 hours, and testers 4 hours and was allocated 900 dollars. In the final stage, designers worked for 4 hours, developers for 12 hours, and testers for 32 hours. The budget was 600 dollars.\n",
        "#Find the cost per hour for each specialist by solving a system of linear equations, based on the data from the development stages."
      ],
      "metadata": {
        "id": "gnCkOJksejaS"
      },
      "execution_count": null,
      "outputs": []
    },
    {
      "cell_type": "code",
      "source": [
        "# Cost of one hour of work: d = designers, p = programmers (developers), t = testers"
      ],
      "metadata": {
        "id": "e5jAHPXnj8DA"
      },
      "execution_count": null,
      "outputs": []
    },
    {
      "cell_type": "code",
      "source": [
        "# matrix D\n",
        "matrix_d = np.array([[20, 3, 0],\n",
        "              [8, 28, 4],\n",
        "              [4, 12, 32]])"
      ],
      "metadata": {
        "id": "NBDXUH57kzOS"
      },
      "execution_count": 28,
      "outputs": []
    },
    {
      "cell_type": "code",
      "source": [
        "# vector e\n",
        "vector_e = np.array([800, 900, 600])"
      ],
      "metadata": {
        "id": "5wTeBddIlFgz"
      },
      "execution_count": 29,
      "outputs": []
    },
    {
      "cell_type": "code",
      "source": [
        "# solving and printing results\n",
        "vector_f = np.linalg.solve(matrix_d, vector_e)\n",
        "\n",
        "print(\"Cost of one hour of designers work:\", vector_f[0])\n",
        "print(\"Cost of one hour of developers work:\", vector_f[1])\n",
        "print(\"Cost of one hour of testers work:\", vector_f[2])"
      ],
      "metadata": {
        "colab": {
          "base_uri": "https://localhost:8080/"
        },
        "id": "F78uw5eHlX_k",
        "outputId": "3d1d6024-be97-454d-a5c6-5173bb8267bf"
      },
      "execution_count": 31,
      "outputs": [
        {
          "output_type": "stream",
          "name": "stdout",
          "text": [
            "Cost of one hour of designers work: 36.89655172413793\n",
            "Cost of one hour of developers work: 20.689655172413794\n",
            "Cost of one hour of testers work: 6.379310344827586\n"
          ]
        }
      ]
    }
  ]
}